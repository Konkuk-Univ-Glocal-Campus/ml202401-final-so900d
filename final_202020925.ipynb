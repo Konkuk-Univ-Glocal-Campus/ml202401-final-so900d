{
 "cells": [
  {
   "cell_type": "markdown",
   "metadata": {},
   "source": [
    "# 제품 review 데이터의 감성 분석\n",
    "\n",
    "***\n",
    "\n",
    "### 목표 - 감성 분석의 기본 이해: 감성 분석이 무엇이며 그 응용에 대해 학습\n",
    "\n",
    "- 데이터\n",
    "    - (홀수) amazon_uk_shoes_products_dataset_2021_12.csv \n",
    "- 데이터 전처리: 머신 러닝 작업을 위해 데이터 전 처리하는 경험을 쌓음.\n",
    "    - 데이터 정리 (노이즈 제거, 결측값 처리 등).\n",
    "    - 텍스트 토큰화 및 불용어 제거.\n",
    "    - 텍스트 정규화 (스테밍 또는 표제어 추출).\n",
    "- 모델 구현: 수업에서 활용한 모델을 활용해서 구현.\n",
    "    - 수업에서 홯용한 모델을 적용.\n",
    "- 모델 학습 및 튜닝\n",
    "    - 데이터셋을 학습 및 테스트 세트로 분할.\n",
    "    - 모델 학습 및 하이퍼파라미터 튜닝 (예: 그리드 서치 또는 랜덤 서치 사용).\n",
    "    - 교차 검증과 같은 기술을 사용하여 견고성 보장.\n",
    "- 모델 평가: 적절한 지표를 사용하여 모델의 성능을 평가.\n",
    "    - 정확도, 정밀도, 재현율, F1 점수 및 ROC-AUC와 같은 지표를 사용하여 모델 평가.\n",
    "    - 오버피팅과 언더피팅을 논의하고 이를 해결하는 방법 학습.\n",
    "- 시각화 및 해석: 결과를 시각화하고 해석\n",
    "    - Matplotlib 또는 Seaborn과 같은 라이브러리를 사용하여 결과 시각화.\n",
    "    - 혼동 행렬 및 ROC 곡선 생성.\n",
    "\n",
    "***"
   ]
  },
  {
   "cell_type": "markdown",
   "metadata": {},
   "source": [
    "## 데이터 전처리\n",
    "\n",
    "### 데이터 확인\n",
    "- url : 상품 URL 주소\n",
    "- product_name : 상품명\n",
    "- reviewer_name : 리뷰 작성자 이름\n",
    "- review_title : 리뷰 제목\n",
    "- review_text : 리뷰 내용\n",
    "- review_rating : 리뷰 별점\n",
    "- verified_purchase : 구매 확인 여부\n",
    "- review_date : 리뷰 작성 날짜\n",
    "- helpful_count : 리뷰가 도움이 된 사람의 수\n",
    "- uniq_id : 리뷰 ID\n",
    "- scraped_at : 리뷰를 가져온 시점\n",
    "\n",
    "### 데이터 정리\n",
    "- 결측치 확인\n",
    "- 실제 구매자가 작성하지 않은 리뷰 제외\n",
    "- 영어 리뷰만 사용"
   ]
  },
  {
   "cell_type": "code",
   "execution_count": 16,
   "metadata": {},
   "outputs": [
    {
     "name": "stdout",
     "output_type": "stream",
     "text": [
      "Requirement already satisfied: langdetect in /usr/local/python/3.10.13/lib/python3.10/site-packages (1.0.9)\n",
      "Requirement already satisfied: six in /home/codespace/.local/lib/python3.10/site-packages (from langdetect) (1.16.0)\n",
      "Note: you may need to restart the kernel to use updated packages.\n"
     ]
    }
   ],
   "source": [
    "# 필요한 라이브러리 설치 및 다운\n",
    "%pip install langdetect\n",
    "\n",
    "from langdetect import detect\n",
    "import re\n",
    "\n",
    "import pandas as pd"
   ]
  },
  {
   "cell_type": "code",
   "execution_count": 2,
   "metadata": {},
   "outputs": [],
   "source": [
    "# 데이터 불러오기\n",
    "file_path = './amazon_uk_shoes_products_dataset_2021_12.csv'\n",
    "df = pd.read_csv(file_path)"
   ]
  },
  {
   "cell_type": "code",
   "execution_count": 3,
   "metadata": {},
   "outputs": [
    {
     "name": "stdout",
     "output_type": "stream",
     "text": [
      "<class 'pandas.core.frame.DataFrame'>\n",
      "RangeIndex: 6823 entries, 0 to 6822\n",
      "Data columns (total 11 columns):\n",
      " #   Column             Non-Null Count  Dtype  \n",
      "---  ------             --------------  -----  \n",
      " 0   url                6823 non-null   object \n",
      " 1   product_name       6823 non-null   object \n",
      " 2   reviewer_name      6823 non-null   object \n",
      " 3   review_title       6822 non-null   object \n",
      " 4   review_text        6814 non-null   object \n",
      " 5   review_rating      6823 non-null   float64\n",
      " 6   verified_purchase  6823 non-null   bool   \n",
      " 7   review_date        6823 non-null   object \n",
      " 8   helpful_count      1953 non-null   object \n",
      " 9   uniq_id            6823 non-null   object \n",
      " 10  scraped_at         6823 non-null   object \n",
      "dtypes: bool(1), float64(1), object(9)\n",
      "memory usage: 539.8+ KB\n"
     ]
    }
   ],
   "source": [
    "# 결측치 확인\n",
    "df.info()"
   ]
  },
  {
   "cell_type": "code",
   "execution_count": 4,
   "metadata": {},
   "outputs": [
    {
     "name": "stdout",
     "output_type": "stream",
     "text": [
      "<class 'pandas.core.frame.DataFrame'>\n",
      "Index: 6813 entries, 0 to 6822\n",
      "Data columns (total 11 columns):\n",
      " #   Column             Non-Null Count  Dtype  \n",
      "---  ------             --------------  -----  \n",
      " 0   url                6813 non-null   object \n",
      " 1   product_name       6813 non-null   object \n",
      " 2   reviewer_name      6813 non-null   object \n",
      " 3   review_title       6813 non-null   object \n",
      " 4   review_text        6813 non-null   object \n",
      " 5   review_rating      6813 non-null   float64\n",
      " 6   verified_purchase  6813 non-null   bool   \n",
      " 7   review_date        6813 non-null   object \n",
      " 8   helpful_count      1950 non-null   object \n",
      " 9   uniq_id            6813 non-null   object \n",
      " 10  scraped_at         6813 non-null   object \n",
      "dtypes: bool(1), float64(1), object(9)\n",
      "memory usage: 592.1+ KB\n"
     ]
    }
   ],
   "source": [
    "# 결측치 제거\n",
    "df = df.dropna(subset=['review_title','review_text']) #review_title과 review_text열에 있는 결측치에 대해서만 전체 행 제거\n",
    "df.info()"
   ]
  },
  {
   "cell_type": "code",
   "execution_count": 8,
   "metadata": {},
   "outputs": [
    {
     "name": "stdout",
     "output_type": "stream",
     "text": [
      "<class 'pandas.core.frame.DataFrame'>\n",
      "Index: 6800 entries, 0 to 6822\n",
      "Data columns (total 11 columns):\n",
      " #   Column             Non-Null Count  Dtype  \n",
      "---  ------             --------------  -----  \n",
      " 0   url                6800 non-null   object \n",
      " 1   product_name       6800 non-null   object \n",
      " 2   reviewer_name      6800 non-null   object \n",
      " 3   review_title       6800 non-null   object \n",
      " 4   review_text        6800 non-null   object \n",
      " 5   review_rating      6800 non-null   float64\n",
      " 6   verified_purchase  6800 non-null   object \n",
      " 7   review_date        6800 non-null   object \n",
      " 8   helpful_count      1950 non-null   object \n",
      " 9   uniq_id            6800 non-null   object \n",
      " 10  scraped_at         6800 non-null   object \n",
      "dtypes: float64(1), object(10)\n",
      "memory usage: 637.5+ KB\n"
     ]
    }
   ],
   "source": [
    "df['verified_purchase'] = df['verified_purchase'].astype(str) # 문자열 변환\n",
    "\n",
    "# 실제 구매자가 작성하지 않은 리뷰 제외\n",
    "df = df[df.verified_purchase != 'False']\n",
    "df.info()"
   ]
  },
  {
   "cell_type": "code",
   "execution_count": 19,
   "metadata": {},
   "outputs": [],
   "source": [
    "# 감성분석에 필요한 'review_title', 'review_text', 'review_rating' 열만 선택\n",
    "df = df[['review_rating', 'review_title', 'review_text']]"
   ]
  },
  {
   "cell_type": "code",
   "execution_count": 14,
   "metadata": {},
   "outputs": [],
   "source": [
    "# 영어로 된 리뷰만 남기기\n",
    "\n",
    "# 'review_text'가 영어인 행만 남기고 나머지 제거 하는 함수 정의\n",
    "def is_english(text):\n",
    "    try:\n",
    "        return detect(text) == 'en'\n",
    "    except:\n",
    "        return False\n",
    "\n",
    "df = df[df['review_text'].apply(is_english)]\n",
    "df.info()"
   ]
  },
  {
   "cell_type": "code",
   "execution_count": 17,
   "metadata": {},
   "outputs": [],
   "source": [
    "# 텍스트 전처리 함수\n",
    "def preprocess_text(text):\n",
    "    # 소문자 변환\n",
    "    text = text.lower()\n",
    "    # 숫자 제거\n",
    "    text = re.sub(r'\\d+', '', text)\n",
    "    # 연속된 공백을 하나의 공백으로 통일\n",
    "    text = re.sub(r'\\s+', ' ', text).strip()\n",
    "\n",
    "    return text\n",
    "\n",
    "# 'review_title'과 'review_text' 전처리\n",
    "df['review_title'] = df['review_title'].apply(preprocess_text)\n",
    "df['review_text'] = df['review_text'].apply(preprocess_text)"
   ]
  },
  {
   "cell_type": "code",
   "execution_count": 20,
   "metadata": {},
   "outputs": [
    {
     "data": {
      "text/html": [
       "<div>\n",
       "<style scoped>\n",
       "    .dataframe tbody tr th:only-of-type {\n",
       "        vertical-align: middle;\n",
       "    }\n",
       "\n",
       "    .dataframe tbody tr th {\n",
       "        vertical-align: top;\n",
       "    }\n",
       "\n",
       "    .dataframe thead th {\n",
       "        text-align: right;\n",
       "    }\n",
       "</style>\n",
       "<table border=\"1\" class=\"dataframe\">\n",
       "  <thead>\n",
       "    <tr style=\"text-align: right;\">\n",
       "      <th></th>\n",
       "      <th>review_rating</th>\n",
       "      <th>review_title</th>\n",
       "      <th>review_text</th>\n",
       "    </tr>\n",
       "  </thead>\n",
       "  <tbody>\n",
       "    <tr>\n",
       "      <th>0</th>\n",
       "      <td>5.0</td>\n",
       "      <td>love em</td>\n",
       "      <td>love these. was looking for converses and thes...</td>\n",
       "    </tr>\n",
       "    <tr>\n",
       "      <th>1</th>\n",
       "      <td>2.0</td>\n",
       "      <td>the plastic ripped</td>\n",
       "      <td>the shoes are very cute, but after the nd day ...</td>\n",
       "    </tr>\n",
       "    <tr>\n",
       "      <th>2</th>\n",
       "      <td>5.0</td>\n",
       "      <td>good quality</td>\n",
       "      <td>good quality</td>\n",
       "    </tr>\n",
       "    <tr>\n",
       "      <th>3</th>\n",
       "      <td>5.0</td>\n",
       "      <td>good</td>\n",
       "      <td>great</td>\n",
       "    </tr>\n",
       "    <tr>\n",
       "      <th>14</th>\n",
       "      <td>5.0</td>\n",
       "      <td>perfect right outta the box</td>\n",
       "      <td>true to size. if between i'd probably go with ...</td>\n",
       "    </tr>\n",
       "    <tr>\n",
       "      <th>...</th>\n",
       "      <td>...</td>\n",
       "      <td>...</td>\n",
       "      <td>...</td>\n",
       "    </tr>\n",
       "    <tr>\n",
       "      <th>6813</th>\n",
       "      <td>5.0</td>\n",
       "      <td>great for early walkers</td>\n",
       "      <td>the only shoes (after many tries) that worked ...</td>\n",
       "    </tr>\n",
       "    <tr>\n",
       "      <th>6814</th>\n",
       "      <td>3.0</td>\n",
       "      <td>three stars</td>\n",
       "      <td>too narrow hard to get on for a toddler</td>\n",
       "    </tr>\n",
       "    <tr>\n",
       "      <th>6815</th>\n",
       "      <td>5.0</td>\n",
       "      <td>said they were very comfortable.</td>\n",
       "      <td>my son loves them. said they were very comfort...</td>\n",
       "    </tr>\n",
       "    <tr>\n",
       "      <th>6816</th>\n",
       "      <td>2.0</td>\n",
       "      <td>they are smaller than other shoes the same size</td>\n",
       "      <td>size but they are smaller than the size my son...</td>\n",
       "    </tr>\n",
       "    <tr>\n",
       "      <th>6817</th>\n",
       "      <td>4.0</td>\n",
       "      <td>these shoes are great for the price</td>\n",
       "      <td>these shoes are great for the price. been lovi...</td>\n",
       "    </tr>\n",
       "  </tbody>\n",
       "</table>\n",
       "<p>3817 rows × 3 columns</p>\n",
       "</div>"
      ],
      "text/plain": [
       "      review_rating                                     review_title  \\\n",
       "0               5.0                                          love em   \n",
       "1               2.0                               the plastic ripped   \n",
       "2               5.0                                     good quality   \n",
       "3               5.0                                             good   \n",
       "14              5.0                      perfect right outta the box   \n",
       "...             ...                                              ...   \n",
       "6813            5.0                          great for early walkers   \n",
       "6814            3.0                                      three stars   \n",
       "6815            5.0                 said they were very comfortable.   \n",
       "6816            2.0  they are smaller than other shoes the same size   \n",
       "6817            4.0              these shoes are great for the price   \n",
       "\n",
       "                                            review_text  \n",
       "0     love these. was looking for converses and thes...  \n",
       "1     the shoes are very cute, but after the nd day ...  \n",
       "2                                          good quality  \n",
       "3                                                 great  \n",
       "14    true to size. if between i'd probably go with ...  \n",
       "...                                                 ...  \n",
       "6813  the only shoes (after many tries) that worked ...  \n",
       "6814            too narrow hard to get on for a toddler  \n",
       "6815  my son loves them. said they were very comfort...  \n",
       "6816  size but they are smaller than the size my son...  \n",
       "6817  these shoes are great for the price. been lovi...  \n",
       "\n",
       "[3817 rows x 3 columns]"
      ]
     },
     "execution_count": 20,
     "metadata": {},
     "output_type": "execute_result"
    }
   ],
   "source": [
    "# 데이터 확인\n",
    "df"
   ]
  },
  {
   "cell_type": "markdown",
   "metadata": {},
   "source": [
    "### 데이터 토큰화"
   ]
  },
  {
   "cell_type": "markdown",
   "metadata": {},
   "source": [
    "### 불용어 제거"
   ]
  },
  {
   "cell_type": "markdown",
   "metadata": {},
   "source": [
    "### 데이터 정규화"
   ]
  }
 ],
 "metadata": {
  "kernelspec": {
   "display_name": "Python 3",
   "language": "python",
   "name": "python3"
  },
  "language_info": {
   "codemirror_mode": {
    "name": "ipython",
    "version": 3
   },
   "file_extension": ".py",
   "mimetype": "text/x-python",
   "name": "python",
   "nbconvert_exporter": "python",
   "pygments_lexer": "ipython3",
   "version": "3.10.13"
  }
 },
 "nbformat": 4,
 "nbformat_minor": 2
}
